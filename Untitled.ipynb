{
  "nbformat": 4,
  "nbformat_minor": 0,
  "metadata": {
    "colab": {
      "name": "Untitled.ipynb",
      "version": "0.3.2",
      "provenance": [],
      "include_colab_link": true
    },
    "kernelspec": {
      "display_name": "Python 3",
      "language": "python",
      "name": "python3"
    }
  },
  "cells": [
    {
      "cell_type": "markdown",
      "metadata": {
        "id": "view-in-github",
        "colab_type": "text"
      },
      "source": [
        "<a href=\"https://colab.research.google.com/github/codermandy/Annual-Rainfall-Prediction/blob/master/Untitled.ipynb\" target=\"_parent\"><img src=\"https://colab.research.google.com/assets/colab-badge.svg\" alt=\"Open In Colab\"/></a>"
      ]
    },
    {
      "metadata": {
        "id": "LchIszgB4jjR",
        "colab_type": "code",
        "colab": {}
      },
      "cell_type": "code",
      "source": [
        "import numpy as np # for large multi dimensional array and matrices\n",
        "import pandas as pd #  work with datasets as DataFrame(excel spreadsheet rows and coloumns) and do on top of it data analysis\n",
        "\n",
        "import sklearn # implementations of many common machine learning algorithms and other operations\n",
        "from sklearn.model_selection import train_test_split  #algorithm for prediction\n",
        "from sklearn.metrics import mean_squared_error # error calculation\n",
        "from sklearn.metrics import mean_absolute_error\n",
        "from sklearn.metrics import r2_score\n",
        "import matplotlib.pyplot as plt\n",
        "import seaborn as sb \n",
        "from sklearn import preprocessing"
      ],
      "execution_count": 0,
      "outputs": []
    },
    {
      "metadata": {
        "id": "rzTUJEmP4jjb",
        "colab_type": "code",
        "colab": {
          "resources": {
            "http://localhost:8080/nbextensions/google.colab/files.js": {
              "data": "Ly8gQ29weXJpZ2h0IDIwMTcgR29vZ2xlIExMQwovLwovLyBMaWNlbnNlZCB1bmRlciB0aGUgQXBhY2hlIExpY2Vuc2UsIFZlcnNpb24gMi4wICh0aGUgIkxpY2Vuc2UiKTsKLy8geW91IG1heSBub3QgdXNlIHRoaXMgZmlsZSBleGNlcHQgaW4gY29tcGxpYW5jZSB3aXRoIHRoZSBMaWNlbnNlLgovLyBZb3UgbWF5IG9idGFpbiBhIGNvcHkgb2YgdGhlIExpY2Vuc2UgYXQKLy8KLy8gICAgICBodHRwOi8vd3d3LmFwYWNoZS5vcmcvbGljZW5zZXMvTElDRU5TRS0yLjAKLy8KLy8gVW5sZXNzIHJlcXVpcmVkIGJ5IGFwcGxpY2FibGUgbGF3IG9yIGFncmVlZCB0byBpbiB3cml0aW5nLCBzb2Z0d2FyZQovLyBkaXN0cmlidXRlZCB1bmRlciB0aGUgTGljZW5zZSBpcyBkaXN0cmlidXRlZCBvbiBhbiAiQVMgSVMiIEJBU0lTLAovLyBXSVRIT1VUIFdBUlJBTlRJRVMgT1IgQ09ORElUSU9OUyBPRiBBTlkgS0lORCwgZWl0aGVyIGV4cHJlc3Mgb3IgaW1wbGllZC4KLy8gU2VlIHRoZSBMaWNlbnNlIGZvciB0aGUgc3BlY2lmaWMgbGFuZ3VhZ2UgZ292ZXJuaW5nIHBlcm1pc3Npb25zIGFuZAovLyBsaW1pdGF0aW9ucyB1bmRlciB0aGUgTGljZW5zZS4KCi8qKgogKiBAZmlsZW92ZXJ2aWV3IEhlbHBlcnMgZm9yIGdvb2dsZS5jb2xhYiBQeXRob24gbW9kdWxlLgogKi8KKGZ1bmN0aW9uKHNjb3BlKSB7CmZ1bmN0aW9uIHNwYW4odGV4dCwgc3R5bGVBdHRyaWJ1dGVzID0ge30pIHsKICBjb25zdCBlbGVtZW50ID0gZG9jdW1lbnQuY3JlYXRlRWxlbWVudCgnc3BhbicpOwogIGVsZW1lbnQudGV4dENvbnRlbnQgPSB0ZXh0OwogIGZvciAoY29uc3Qga2V5IG9mIE9iamVjdC5rZXlzKHN0eWxlQXR0cmlidXRlcykpIHsKICAgIGVsZW1lbnQuc3R5bGVba2V5XSA9IHN0eWxlQXR0cmlidXRlc1trZXldOwogIH0KICByZXR1cm4gZWxlbWVudDsKfQoKLy8gTWF4IG51bWJlciBvZiBieXRlcyB3aGljaCB3aWxsIGJlIHVwbG9hZGVkIGF0IGEgdGltZS4KY29uc3QgTUFYX1BBWUxPQURfU0laRSA9IDEwMCAqIDEwMjQ7Ci8vIE1heCBhbW91bnQgb2YgdGltZSB0byBibG9jayB3YWl0aW5nIGZvciB0aGUgdXNlci4KY29uc3QgRklMRV9DSEFOR0VfVElNRU9VVF9NUyA9IDMwICogMTAwMDsKCmZ1bmN0aW9uIF91cGxvYWRGaWxlcyhpbnB1dElkLCBvdXRwdXRJZCkgewogIGNvbnN0IHN0ZXBzID0gdXBsb2FkRmlsZXNTdGVwKGlucHV0SWQsIG91dHB1dElkKTsKICBjb25zdCBvdXRwdXRFbGVtZW50ID0gZG9jdW1lbnQuZ2V0RWxlbWVudEJ5SWQob3V0cHV0SWQpOwogIC8vIENhY2hlIHN0ZXBzIG9uIHRoZSBvdXRwdXRFbGVtZW50IHRvIG1ha2UgaXQgYXZhaWxhYmxlIGZvciB0aGUgbmV4dCBjYWxsCiAgLy8gdG8gdXBsb2FkRmlsZXNDb250aW51ZSBmcm9tIFB5dGhvbi4KICBvdXRwdXRFbGVtZW50LnN0ZXBzID0gc3RlcHM7CgogIHJldHVybiBfdXBsb2FkRmlsZXNDb250aW51ZShvdXRwdXRJZCk7Cn0KCi8vIFRoaXMgaXMgcm91Z2hseSBhbiBhc3luYyBnZW5lcmF0b3IgKG5vdCBzdXBwb3J0ZWQgaW4gdGhlIGJyb3dzZXIgeWV0KSwKLy8gd2hlcmUgdGhlcmUgYXJlIG11bHRpcGxlIGFzeW5jaHJvbm91cyBzdGVwcyBhbmQgdGhlIFB5dGhvbiBzaWRlIGlzIGdvaW5nCi8vIHRvIHBvbGwgZm9yIGNvbXBsZXRpb24gb2YgZWFjaCBzdGVwLgovLyBUaGlzIHVzZXMgYSBQcm9taXNlIHRvIGJsb2NrIHRoZSBweXRob24gc2lkZSBvbiBjb21wbGV0aW9uIG9mIGVhY2ggc3RlcCwKLy8gdGhlbiBwYXNzZXMgdGhlIHJlc3VsdCBvZiB0aGUgcHJldmlvdXMgc3RlcCBhcyB0aGUgaW5wdXQgdG8gdGhlIG5leHQgc3RlcC4KZnVuY3Rpb24gX3VwbG9hZEZpbGVzQ29udGludWUob3V0cHV0SWQpIHsKICBjb25zdCBvdXRwdXRFbGVtZW50ID0gZG9jdW1lbnQuZ2V0RWxlbWVudEJ5SWQob3V0cHV0SWQpOwogIGNvbnN0IHN0ZXBzID0gb3V0cHV0RWxlbWVudC5zdGVwczsKCiAgY29uc3QgbmV4dCA9IHN0ZXBzLm5leHQob3V0cHV0RWxlbWVudC5sYXN0UHJvbWlzZVZhbHVlKTsKICByZXR1cm4gUHJvbWlzZS5yZXNvbHZlKG5leHQudmFsdWUucHJvbWlzZSkudGhlbigodmFsdWUpID0+IHsKICAgIC8vIENhY2hlIHRoZSBsYXN0IHByb21pc2UgdmFsdWUgdG8gbWFrZSBpdCBhdmFpbGFibGUgdG8gdGhlIG5leHQKICAgIC8vIHN0ZXAgb2YgdGhlIGdlbmVyYXRvci4KICAgIG91dHB1dEVsZW1lbnQubGFzdFByb21pc2VWYWx1ZSA9IHZhbHVlOwogICAgcmV0dXJuIG5leHQudmFsdWUucmVzcG9uc2U7CiAgfSk7Cn0KCi8qKgogKiBHZW5lcmF0b3IgZnVuY3Rpb24gd2hpY2ggaXMgY2FsbGVkIGJldHdlZW4gZWFjaCBhc3luYyBzdGVwIG9mIHRoZSB1cGxvYWQKICogcHJvY2Vzcy4KICogQHBhcmFtIHtzdHJpbmd9IGlucHV0SWQgRWxlbWVudCBJRCBvZiB0aGUgaW5wdXQgZmlsZSBwaWNrZXIgZWxlbWVudC4KICogQHBhcmFtIHtzdHJpbmd9IG91dHB1dElkIEVsZW1lbnQgSUQgb2YgdGhlIG91dHB1dCBkaXNwbGF5LgogKiBAcmV0dXJuIHshSXRlcmFibGU8IU9iamVjdD59IEl0ZXJhYmxlIG9mIG5leHQgc3RlcHMuCiAqLwpmdW5jdGlvbiogdXBsb2FkRmlsZXNTdGVwKGlucHV0SWQsIG91dHB1dElkKSB7CiAgY29uc3QgaW5wdXRFbGVtZW50ID0gZG9jdW1lbnQuZ2V0RWxlbWVudEJ5SWQoaW5wdXRJZCk7CiAgaW5wdXRFbGVtZW50LmRpc2FibGVkID0gZmFsc2U7CgogIGNvbnN0IG91dHB1dEVsZW1lbnQgPSBkb2N1bWVudC5nZXRFbGVtZW50QnlJZChvdXRwdXRJZCk7CiAgb3V0cHV0RWxlbWVudC5pbm5lckhUTUwgPSAnJzsKCiAgY29uc3QgcGlja2VkUHJvbWlzZSA9IG5ldyBQcm9taXNlKChyZXNvbHZlKSA9PiB7CiAgICBpbnB1dEVsZW1lbnQuYWRkRXZlbnRMaXN0ZW5lcignY2hhbmdlJywgKGUpID0+IHsKICAgICAgcmVzb2x2ZShlLnRhcmdldC5maWxlcyk7CiAgICB9KTsKICB9KTsKCiAgY29uc3QgY2FuY2VsID0gZG9jdW1lbnQuY3JlYXRlRWxlbWVudCgnYnV0dG9uJyk7CiAgaW5wdXRFbGVtZW50LnBhcmVudEVsZW1lbnQuYXBwZW5kQ2hpbGQoY2FuY2VsKTsKICBjYW5jZWwudGV4dENvbnRlbnQgPSAnQ2FuY2VsIHVwbG9hZCc7CiAgY29uc3QgY2FuY2VsUHJvbWlzZSA9IG5ldyBQcm9taXNlKChyZXNvbHZlKSA9PiB7CiAgICBjYW5jZWwub25jbGljayA9ICgpID0+IHsKICAgICAgcmVzb2x2ZShudWxsKTsKICAgIH07CiAgfSk7CgogIC8vIENhbmNlbCB1cGxvYWQgaWYgdXNlciBoYXNuJ3QgcGlja2VkIGFueXRoaW5nIGluIHRpbWVvdXQuCiAgY29uc3QgdGltZW91dFByb21pc2UgPSBuZXcgUHJvbWlzZSgocmVzb2x2ZSkgPT4gewogICAgc2V0VGltZW91dCgoKSA9PiB7CiAgICAgIHJlc29sdmUobnVsbCk7CiAgICB9LCBGSUxFX0NIQU5HRV9USU1FT1VUX01TKTsKICB9KTsKCiAgLy8gV2FpdCBmb3IgdGhlIHVzZXIgdG8gcGljayB0aGUgZmlsZXMuCiAgY29uc3QgZmlsZXMgPSB5aWVsZCB7CiAgICBwcm9taXNlOiBQcm9taXNlLnJhY2UoW3BpY2tlZFByb21pc2UsIHRpbWVvdXRQcm9taXNlLCBjYW5jZWxQcm9taXNlXSksCiAgICByZXNwb25zZTogewogICAgICBhY3Rpb246ICdzdGFydGluZycsCiAgICB9CiAgfTsKCiAgaWYgKCFmaWxlcykgewogICAgcmV0dXJuIHsKICAgICAgcmVzcG9uc2U6IHsKICAgICAgICBhY3Rpb246ICdjb21wbGV0ZScsCiAgICAgIH0KICAgIH07CiAgfQoKICBjYW5jZWwucmVtb3ZlKCk7CgogIC8vIERpc2FibGUgdGhlIGlucHV0IGVsZW1lbnQgc2luY2UgZnVydGhlciBwaWNrcyBhcmUgbm90IGFsbG93ZWQuCiAgaW5wdXRFbGVtZW50LmRpc2FibGVkID0gdHJ1ZTsKCiAgZm9yIChjb25zdCBmaWxlIG9mIGZpbGVzKSB7CiAgICBjb25zdCBsaSA9IGRvY3VtZW50LmNyZWF0ZUVsZW1lbnQoJ2xpJyk7CiAgICBsaS5hcHBlbmQoc3BhbihmaWxlLm5hbWUsIHtmb250V2VpZ2h0OiAnYm9sZCd9KSk7CiAgICBsaS5hcHBlbmQoc3BhbigKICAgICAgICBgKCR7ZmlsZS50eXBlIHx8ICduL2EnfSkgLSAke2ZpbGUuc2l6ZX0gYnl0ZXMsIGAgKwogICAgICAgIGBsYXN0IG1vZGlmaWVkOiAkewogICAgICAgICAgICBmaWxlLmxhc3RNb2RpZmllZERhdGUgPyBmaWxlLmxhc3RNb2RpZmllZERhdGUudG9Mb2NhbGVEYXRlU3RyaW5nKCkgOgogICAgICAgICAgICAgICAgICAgICAgICAgICAgICAgICAgICAnbi9hJ30gLSBgKSk7CiAgICBjb25zdCBwZXJjZW50ID0gc3BhbignMCUgZG9uZScpOwogICAgbGkuYXBwZW5kQ2hpbGQocGVyY2VudCk7CgogICAgb3V0cHV0RWxlbWVudC5hcHBlbmRDaGlsZChsaSk7CgogICAgY29uc3QgZmlsZURhdGFQcm9taXNlID0gbmV3IFByb21pc2UoKHJlc29sdmUpID0+IHsKICAgICAgY29uc3QgcmVhZGVyID0gbmV3IEZpbGVSZWFkZXIoKTsKICAgICAgcmVhZGVyLm9ubG9hZCA9IChlKSA9PiB7CiAgICAgICAgcmVzb2x2ZShlLnRhcmdldC5yZXN1bHQpOwogICAgICB9OwogICAgICByZWFkZXIucmVhZEFzQXJyYXlCdWZmZXIoZmlsZSk7CiAgICB9KTsKICAgIC8vIFdhaXQgZm9yIHRoZSBkYXRhIHRvIGJlIHJlYWR5LgogICAgbGV0IGZpbGVEYXRhID0geWllbGQgewogICAgICBwcm9taXNlOiBmaWxlRGF0YVByb21pc2UsCiAgICAgIHJlc3BvbnNlOiB7CiAgICAgICAgYWN0aW9uOiAnY29udGludWUnLAogICAgICB9CiAgICB9OwoKICAgIC8vIFVzZSBhIGNodW5rZWQgc2VuZGluZyB0byBhdm9pZCBtZXNzYWdlIHNpemUgbGltaXRzLiBTZWUgYi82MjExNTY2MC4KICAgIGxldCBwb3NpdGlvbiA9IDA7CiAgICB3aGlsZSAocG9zaXRpb24gPCBmaWxlRGF0YS5ieXRlTGVuZ3RoKSB7CiAgICAgIGNvbnN0IGxlbmd0aCA9IE1hdGgubWluKGZpbGVEYXRhLmJ5dGVMZW5ndGggLSBwb3NpdGlvbiwgTUFYX1BBWUxPQURfU0laRSk7CiAgICAgIGNvbnN0IGNodW5rID0gbmV3IFVpbnQ4QXJyYXkoZmlsZURhdGEsIHBvc2l0aW9uLCBsZW5ndGgpOwogICAgICBwb3NpdGlvbiArPSBsZW5ndGg7CgogICAgICBjb25zdCBiYXNlNjQgPSBidG9hKFN0cmluZy5mcm9tQ2hhckNvZGUuYXBwbHkobnVsbCwgY2h1bmspKTsKICAgICAgeWllbGQgewogICAgICAgIHJlc3BvbnNlOiB7CiAgICAgICAgICBhY3Rpb246ICdhcHBlbmQnLAogICAgICAgICAgZmlsZTogZmlsZS5uYW1lLAogICAgICAgICAgZGF0YTogYmFzZTY0LAogICAgICAgIH0sCiAgICAgIH07CiAgICAgIHBlcmNlbnQudGV4dENvbnRlbnQgPQogICAgICAgICAgYCR7TWF0aC5yb3VuZCgocG9zaXRpb24gLyBmaWxlRGF0YS5ieXRlTGVuZ3RoKSAqIDEwMCl9JSBkb25lYDsKICAgIH0KICB9CgogIC8vIEFsbCBkb25lLgogIHlpZWxkIHsKICAgIHJlc3BvbnNlOiB7CiAgICAgIGFjdGlvbjogJ2NvbXBsZXRlJywKICAgIH0KICB9Owp9CgpzY29wZS5nb29nbGUgPSBzY29wZS5nb29nbGUgfHwge307CnNjb3BlLmdvb2dsZS5jb2xhYiA9IHNjb3BlLmdvb2dsZS5jb2xhYiB8fCB7fTsKc2NvcGUuZ29vZ2xlLmNvbGFiLl9maWxlcyA9IHsKICBfdXBsb2FkRmlsZXMsCiAgX3VwbG9hZEZpbGVzQ29udGludWUsCn07Cn0pKHNlbGYpOwo=",
              "ok": true,
              "headers": [
                [
                  "content-type",
                  "application/javascript"
                ]
              ],
              "status": 200,
              "status_text": ""
            }
          },
          "base_uri": "https://localhost:8080/",
          "height": 73
        },
        "outputId": "9c967605-262a-4344-b5ee-c6371147e71a"
      },
      "cell_type": "code",
      "source": [
        "## use only once to download file\n",
        "#from google.colab import files\n",
        "#uploaded = files.upload()"
      ],
      "execution_count": 19,
      "outputs": [
        {
          "output_type": "display_data",
          "data": {
            "text/html": [
              "\n",
              "     <input type=\"file\" id=\"files-769f1883-6454-47c6-ace2-8060627f515a\" name=\"files[]\" multiple disabled />\n",
              "     <output id=\"result-769f1883-6454-47c6-ace2-8060627f515a\">\n",
              "      Upload widget is only available when the cell has been executed in the\n",
              "      current browser session. Please rerun this cell to enable.\n",
              "      </output>\n",
              "      <script src=\"/nbextensions/google.colab/files.js\"></script> "
            ],
            "text/plain": [
              "<IPython.core.display.HTML object>"
            ]
          },
          "metadata": {
            "tags": []
          }
        },
        {
          "output_type": "stream",
          "text": [
            "Saving rain.csv to rain (1).csv\n"
          ],
          "name": "stdout"
        }
      ]
    },
    {
      "metadata": {
        "id": "AYRYrgepCiBl",
        "colab_type": "code",
        "colab": {}
      },
      "cell_type": "code",
      "source": [
        "import io\n",
        "rain = pd.read_csv(io.BytesIO(uploaded['rain.csv']))\n",
        "# Dataset is now stored in a Pandas Dataframe"
      ],
      "execution_count": 0,
      "outputs": []
    },
    {
      "metadata": {
        "id": "pL4PJE0_4jji",
        "colab_type": "code",
        "colab": {
          "base_uri": "https://localhost:8080/",
          "height": 195
        },
        "outputId": "e5e99abd-5435-4b77-da6d-7fc861b4b5cc"
      },
      "cell_type": "code",
      "source": [
        "# prints a part of our dataset\n",
        "rain.head()"
      ],
      "execution_count": 22,
      "outputs": [
        {
          "output_type": "execute_result",
          "data": {
            "text/html": [
              "<div>\n",
              "<style scoped>\n",
              "    .dataframe tbody tr th:only-of-type {\n",
              "        vertical-align: middle;\n",
              "    }\n",
              "\n",
              "    .dataframe tbody tr th {\n",
              "        vertical-align: top;\n",
              "    }\n",
              "\n",
              "    .dataframe thead th {\n",
              "        text-align: right;\n",
              "    }\n",
              "</style>\n",
              "<table border=\"1\" class=\"dataframe\">\n",
              "  <thead>\n",
              "    <tr style=\"text-align: right;\">\n",
              "      <th></th>\n",
              "      <th>SUBDIVISION</th>\n",
              "      <th>YEAR</th>\n",
              "      <th>JAN</th>\n",
              "      <th>FEB</th>\n",
              "      <th>MAR</th>\n",
              "      <th>APR</th>\n",
              "      <th>MAY</th>\n",
              "      <th>JUN</th>\n",
              "      <th>JUL</th>\n",
              "      <th>AUG</th>\n",
              "      <th>SEP</th>\n",
              "      <th>OCT</th>\n",
              "      <th>NOV</th>\n",
              "      <th>DEC</th>\n",
              "      <th>ANNUAL</th>\n",
              "      <th>Jan-Feb</th>\n",
              "      <th>Mar-May</th>\n",
              "      <th>Jun-Sep</th>\n",
              "      <th>Oct-Dec</th>\n",
              "    </tr>\n",
              "  </thead>\n",
              "  <tbody>\n",
              "    <tr>\n",
              "      <th>0</th>\n",
              "      <td>ANDAMAN &amp; NICOBAR ISLANDS</td>\n",
              "      <td>1901</td>\n",
              "      <td>49.2</td>\n",
              "      <td>87.1</td>\n",
              "      <td>29.2</td>\n",
              "      <td>2.3</td>\n",
              "      <td>528.8</td>\n",
              "      <td>517.5</td>\n",
              "      <td>365.1</td>\n",
              "      <td>481.1</td>\n",
              "      <td>332.6</td>\n",
              "      <td>388.5</td>\n",
              "      <td>558.2</td>\n",
              "      <td>33.6</td>\n",
              "      <td>3373.2</td>\n",
              "      <td>136.3</td>\n",
              "      <td>560.3</td>\n",
              "      <td>1696.3</td>\n",
              "      <td>980.3</td>\n",
              "    </tr>\n",
              "    <tr>\n",
              "      <th>1</th>\n",
              "      <td>ANDAMAN &amp; NICOBAR ISLANDS</td>\n",
              "      <td>1902</td>\n",
              "      <td>0.0</td>\n",
              "      <td>159.8</td>\n",
              "      <td>12.2</td>\n",
              "      <td>0.0</td>\n",
              "      <td>446.1</td>\n",
              "      <td>537.1</td>\n",
              "      <td>228.9</td>\n",
              "      <td>753.7</td>\n",
              "      <td>666.2</td>\n",
              "      <td>197.2</td>\n",
              "      <td>359.0</td>\n",
              "      <td>160.5</td>\n",
              "      <td>3520.7</td>\n",
              "      <td>159.8</td>\n",
              "      <td>458.3</td>\n",
              "      <td>2185.9</td>\n",
              "      <td>716.7</td>\n",
              "    </tr>\n",
              "    <tr>\n",
              "      <th>2</th>\n",
              "      <td>ANDAMAN &amp; NICOBAR ISLANDS</td>\n",
              "      <td>1903</td>\n",
              "      <td>12.7</td>\n",
              "      <td>144.0</td>\n",
              "      <td>0.0</td>\n",
              "      <td>1.0</td>\n",
              "      <td>235.1</td>\n",
              "      <td>479.9</td>\n",
              "      <td>728.4</td>\n",
              "      <td>326.7</td>\n",
              "      <td>339.0</td>\n",
              "      <td>181.2</td>\n",
              "      <td>284.4</td>\n",
              "      <td>225.0</td>\n",
              "      <td>2957.4</td>\n",
              "      <td>156.7</td>\n",
              "      <td>236.1</td>\n",
              "      <td>1874.0</td>\n",
              "      <td>690.6</td>\n",
              "    </tr>\n",
              "    <tr>\n",
              "      <th>3</th>\n",
              "      <td>ANDAMAN &amp; NICOBAR ISLANDS</td>\n",
              "      <td>1904</td>\n",
              "      <td>9.4</td>\n",
              "      <td>14.7</td>\n",
              "      <td>0.0</td>\n",
              "      <td>202.4</td>\n",
              "      <td>304.5</td>\n",
              "      <td>495.1</td>\n",
              "      <td>502.0</td>\n",
              "      <td>160.1</td>\n",
              "      <td>820.4</td>\n",
              "      <td>222.2</td>\n",
              "      <td>308.7</td>\n",
              "      <td>40.1</td>\n",
              "      <td>3079.6</td>\n",
              "      <td>24.1</td>\n",
              "      <td>506.9</td>\n",
              "      <td>1977.6</td>\n",
              "      <td>571.0</td>\n",
              "    </tr>\n",
              "    <tr>\n",
              "      <th>4</th>\n",
              "      <td>ANDAMAN &amp; NICOBAR ISLANDS</td>\n",
              "      <td>1905</td>\n",
              "      <td>1.3</td>\n",
              "      <td>0.0</td>\n",
              "      <td>3.3</td>\n",
              "      <td>26.9</td>\n",
              "      <td>279.5</td>\n",
              "      <td>628.7</td>\n",
              "      <td>368.7</td>\n",
              "      <td>330.5</td>\n",
              "      <td>297.0</td>\n",
              "      <td>260.7</td>\n",
              "      <td>25.4</td>\n",
              "      <td>344.7</td>\n",
              "      <td>2566.7</td>\n",
              "      <td>1.3</td>\n",
              "      <td>309.7</td>\n",
              "      <td>1624.9</td>\n",
              "      <td>630.8</td>\n",
              "    </tr>\n",
              "  </tbody>\n",
              "</table>\n",
              "</div>"
            ],
            "text/plain": [
              "                 SUBDIVISION  YEAR   JAN    FEB   MAR    APR    MAY    JUN  \\\n",
              "0  ANDAMAN & NICOBAR ISLANDS  1901  49.2   87.1  29.2    2.3  528.8  517.5   \n",
              "1  ANDAMAN & NICOBAR ISLANDS  1902   0.0  159.8  12.2    0.0  446.1  537.1   \n",
              "2  ANDAMAN & NICOBAR ISLANDS  1903  12.7  144.0   0.0    1.0  235.1  479.9   \n",
              "3  ANDAMAN & NICOBAR ISLANDS  1904   9.4   14.7   0.0  202.4  304.5  495.1   \n",
              "4  ANDAMAN & NICOBAR ISLANDS  1905   1.3    0.0   3.3   26.9  279.5  628.7   \n",
              "\n",
              "     JUL    AUG    SEP    OCT    NOV    DEC  ANNUAL  Jan-Feb  Mar-May  \\\n",
              "0  365.1  481.1  332.6  388.5  558.2   33.6  3373.2    136.3    560.3   \n",
              "1  228.9  753.7  666.2  197.2  359.0  160.5  3520.7    159.8    458.3   \n",
              "2  728.4  326.7  339.0  181.2  284.4  225.0  2957.4    156.7    236.1   \n",
              "3  502.0  160.1  820.4  222.2  308.7   40.1  3079.6     24.1    506.9   \n",
              "4  368.7  330.5  297.0  260.7   25.4  344.7  2566.7      1.3    309.7   \n",
              "\n",
              "   Jun-Sep  Oct-Dec  \n",
              "0   1696.3    980.3  \n",
              "1   2185.9    716.7  \n",
              "2   1874.0    690.6  \n",
              "3   1977.6    571.0  \n",
              "4   1624.9    630.8  "
            ]
          },
          "metadata": {
            "tags": []
          },
          "execution_count": 22
        }
      ]
    },
    {
      "metadata": {
        "id": "VozwNmvA4jjv",
        "colab_type": "code",
        "colab": {
          "base_uri": "https://localhost:8080/",
          "height": 344
        },
        "outputId": "cfee731b-9f77-46b8-8a6b-b5b6537f8e07"
      },
      "cell_type": "code",
      "source": [
        "# Check if there is null values in our dataset\n",
        "rain.isnull().sum()"
      ],
      "execution_count": 23,
      "outputs": [
        {
          "output_type": "execute_result",
          "data": {
            "text/plain": [
              "SUBDIVISION     0\n",
              "YEAR            0\n",
              "JAN             4\n",
              "FEB             3\n",
              "MAR             6\n",
              "APR             4\n",
              "MAY             3\n",
              "JUN             5\n",
              "JUL             7\n",
              "AUG             4\n",
              "SEP             6\n",
              "OCT             7\n",
              "NOV            11\n",
              "DEC            10\n",
              "ANNUAL         26\n",
              "Jan-Feb         6\n",
              "Mar-May         9\n",
              "Jun-Sep        10\n",
              "Oct-Dec        13\n",
              "dtype: int64"
            ]
          },
          "metadata": {
            "tags": []
          },
          "execution_count": 23
        }
      ]
    },
    {
      "metadata": {
        "id": "LYykG2Fq4jj4",
        "colab_type": "code",
        "colab": {
          "base_uri": "https://localhost:8080/",
          "height": 328
        },
        "outputId": "c5b4471b-3d8b-4867-ebd9-fcf0b5788022"
      },
      "cell_type": "code",
      "source": [
        "# Filling null values with mean of that particular coloumn\n",
        "rain=rain.fillna(np.mean(rain))\n",
        "np.mean(rain)"
      ],
      "execution_count": 24,
      "outputs": [
        {
          "output_type": "execute_result",
          "data": {
            "text/plain": [
              "YEAR       1958.218659\n",
              "JAN          18.957320\n",
              "FEB          21.805325\n",
              "MAR          27.359197\n",
              "APR          43.127432\n",
              "MAY          85.745417\n",
              "JUN         230.234444\n",
              "JUL         347.214334\n",
              "AUG         290.263497\n",
              "SEP         197.361922\n",
              "OCT          95.507009\n",
              "NOV          39.866163\n",
              "DEC          18.870580\n",
              "ANNUAL     1411.008900\n",
              "Jan-Feb      40.747786\n",
              "Mar-May     155.901753\n",
              "Jun-Sep    1064.724769\n",
              "Oct-Dec     154.100487\n",
              "dtype: float64"
            ]
          },
          "metadata": {
            "tags": []
          },
          "execution_count": 24
        }
      ]
    },
    {
      "metadata": {
        "id": "04Afwx6r4jkA",
        "colab_type": "code",
        "colab": {
          "base_uri": "https://localhost:8080/",
          "height": 344
        },
        "outputId": "1673d520-9e43-4714-ca18-d44bc7b6c19c"
      },
      "cell_type": "code",
      "source": [
        "# Null values in dataset after preprocessing\n",
        "rain.isnull().sum()"
      ],
      "execution_count": 25,
      "outputs": [
        {
          "output_type": "execute_result",
          "data": {
            "text/plain": [
              "SUBDIVISION    0\n",
              "YEAR           0\n",
              "JAN            0\n",
              "FEB            0\n",
              "MAR            0\n",
              "APR            0\n",
              "MAY            0\n",
              "JUN            0\n",
              "JUL            0\n",
              "AUG            0\n",
              "SEP            0\n",
              "OCT            0\n",
              "NOV            0\n",
              "DEC            0\n",
              "ANNUAL         0\n",
              "Jan-Feb        0\n",
              "Mar-May        0\n",
              "Jun-Sep        0\n",
              "Oct-Dec        0\n",
              "dtype: int64"
            ]
          },
          "metadata": {
            "tags": []
          },
          "execution_count": 25
        }
      ]
    },
    {
      "metadata": {
        "id": "F5pCIFUa4jkJ",
        "colab_type": "code",
        "colab": {
          "base_uri": "https://localhost:8080/",
          "height": 33
        },
        "outputId": "2e08b88c-7c38-46d0-8930-990fc4307c1b"
      },
      "cell_type": "code",
      "source": [
        "# No. of rows and coloumns in our dataset after preprocessing\n",
        "rain.shape\n"
      ],
      "execution_count": 26,
      "outputs": [
        {
          "output_type": "execute_result",
          "data": {
            "text/plain": [
              "(4116, 19)"
            ]
          },
          "metadata": {
            "tags": []
          },
          "execution_count": 26
        }
      ]
    },
    {
      "metadata": {
        "id": "wtctl3zY4jkR",
        "colab_type": "code",
        "colab": {
          "base_uri": "https://localhost:8080/",
          "height": 3126
        },
        "outputId": "d6d32279-eb12-46c0-f3a3-4d9dabcbe33d"
      },
      "cell_type": "code",
      "source": [
        "# information about data type for each coloumn\n",
        "rain.info"
      ],
      "execution_count": 27,
      "outputs": [
        {
          "output_type": "execute_result",
          "data": {
            "text/plain": [
              "<bound method DataFrame.info of                     SUBDIVISION  YEAR    JAN    FEB         MAR    APR    MAY  \\\n",
              "0     ANDAMAN & NICOBAR ISLANDS  1901   49.2   87.1   29.200000    2.3  528.8   \n",
              "1     ANDAMAN & NICOBAR ISLANDS  1902    0.0  159.8   12.200000    0.0  446.1   \n",
              "2     ANDAMAN & NICOBAR ISLANDS  1903   12.7  144.0    0.000000    1.0  235.1   \n",
              "3     ANDAMAN & NICOBAR ISLANDS  1904    9.4   14.7    0.000000  202.4  304.5   \n",
              "4     ANDAMAN & NICOBAR ISLANDS  1905    1.3    0.0    3.300000   26.9  279.5   \n",
              "5     ANDAMAN & NICOBAR ISLANDS  1906   36.6    0.0    0.000000    0.0  556.1   \n",
              "6     ANDAMAN & NICOBAR ISLANDS  1907  110.7    0.0  113.300000   21.6  616.3   \n",
              "7     ANDAMAN & NICOBAR ISLANDS  1908   20.9   85.1    0.000000   29.0  562.0   \n",
              "8     ANDAMAN & NICOBAR ISLANDS  1910   26.6   22.7  206.300000   89.3  224.5   \n",
              "9     ANDAMAN & NICOBAR ISLANDS  1911    0.0    8.4    0.000000  122.5  327.3   \n",
              "10    ANDAMAN & NICOBAR ISLANDS  1912  583.7    0.8    0.000000   21.9  140.7   \n",
              "11    ANDAMAN & NICOBAR ISLANDS  1913   84.8    0.5    1.300000    2.5  190.7   \n",
              "12    ANDAMAN & NICOBAR ISLANDS  1914    0.0    0.0    0.000000   37.7  298.8   \n",
              "13    ANDAMAN & NICOBAR ISLANDS  1915   45.0   56.7   33.300000   40.9  170.2   \n",
              "14    ANDAMAN & NICOBAR ISLANDS  1916    0.0    0.0    0.000000    0.5  487.4   \n",
              "15    ANDAMAN & NICOBAR ISLANDS  1917    8.0    3.6  112.000000    4.5  295.9   \n",
              "16    ANDAMAN & NICOBAR ISLANDS  1918   77.4    6.9   11.400000   10.7  729.3   \n",
              "17    ANDAMAN & NICOBAR ISLANDS  1919   10.2   18.0    0.000000   35.5  283.9   \n",
              "18    ANDAMAN & NICOBAR ISLANDS  1920  122.3    7.4    3.100000   13.0  237.4   \n",
              "19    ANDAMAN & NICOBAR ISLANDS  1921   13.2    3.1    0.000000   37.5  351.2   \n",
              "20    ANDAMAN & NICOBAR ISLANDS  1922  245.3   34.3   15.600000  323.1  289.7   \n",
              "21    ANDAMAN & NICOBAR ISLANDS  1923   79.5    0.0   27.359197   91.3  293.5   \n",
              "22    ANDAMAN & NICOBAR ISLANDS  1924   28.7    0.0   14.800000   89.7  191.2   \n",
              "23    ANDAMAN & NICOBAR ISLANDS  1925   36.6    0.0    8.600000   50.4  282.2   \n",
              "24    ANDAMAN & NICOBAR ISLANDS  1926  122.1    0.0    0.000000    0.5  198.4   \n",
              "25    ANDAMAN & NICOBAR ISLANDS  1927    3.0   17.5   17.800000  108.6  504.1   \n",
              "26    ANDAMAN & NICOBAR ISLANDS  1928   50.9   67.6   80.700000  129.3  499.5   \n",
              "27    ANDAMAN & NICOBAR ISLANDS  1929   74.2  118.4  129.200000   69.8  316.6   \n",
              "28    ANDAMAN & NICOBAR ISLANDS  1930   87.4  105.4  131.200000   10.9  231.5   \n",
              "29    ANDAMAN & NICOBAR ISLANDS  1931   25.3    0.0    2.500000    2.5  205.4   \n",
              "...                         ...   ...    ...    ...         ...    ...    ...   \n",
              "4086                LAKSHADWEEP  1986   12.4    3.0   25.300000    6.5  102.1   \n",
              "4087                LAKSHADWEEP  1987    1.9    1.5    0.000000   16.5   72.9   \n",
              "4088                LAKSHADWEEP  1988    0.8    7.0    0.900000   54.0  142.8   \n",
              "4089                LAKSHADWEEP  1989   20.6    0.0    4.400000   93.0  106.7   \n",
              "4090                LAKSHADWEEP  1990   38.9    0.3   21.400000    0.0  191.1   \n",
              "4091                LAKSHADWEEP  1991   12.3    0.0   18.700000   12.3   68.0   \n",
              "4092                LAKSHADWEEP  1992    4.0    0.1    0.000000    3.3  128.1   \n",
              "4093                LAKSHADWEEP  1993    1.2    0.5    0.200000    0.2   56.5   \n",
              "4094                LAKSHADWEEP  1994   12.4   66.6   34.800000   88.8   78.9   \n",
              "4095                LAKSHADWEEP  1995  131.3   18.5    0.300000  315.4  179.6   \n",
              "4096                LAKSHADWEEP  1996   44.7    1.1    1.600000   17.4   50.0   \n",
              "4097                LAKSHADWEEP  1997    2.2    0.1    4.900000   33.8   62.3   \n",
              "4098                LAKSHADWEEP  1998   52.0    0.0    1.800000   40.3   68.2   \n",
              "4099                LAKSHADWEEP  1999   47.8    2.5   18.300000   20.6  416.7   \n",
              "4100                LAKSHADWEEP  2000   83.3   18.9    3.400000   47.9  204.6   \n",
              "4101                LAKSHADWEEP  2001    4.4   20.4    0.000000  104.6  187.3   \n",
              "4102                LAKSHADWEEP  2002   10.8   16.8    7.200000   23.4  189.8   \n",
              "4103                LAKSHADWEEP  2003   11.8   18.2   28.500000   18.1  109.6   \n",
              "4104                LAKSHADWEEP  2004    7.2    1.5    1.900000    7.7  330.2   \n",
              "4105                LAKSHADWEEP  2005   17.6   11.1    0.000000   37.0   92.8   \n",
              "4106                LAKSHADWEEP  2006   20.1    0.0   33.000000    0.3  327.9   \n",
              "4107                LAKSHADWEEP  2007    2.5    4.2    0.200000   22.2  166.2   \n",
              "4108                LAKSHADWEEP  2008    5.5   19.8  120.700000   15.8  180.4   \n",
              "4109                LAKSHADWEEP  2009    4.7    1.5    0.100000   18.1  162.1   \n",
              "4110                LAKSHADWEEP  2010   18.8    0.0    1.200000   35.6   79.0   \n",
              "4111                LAKSHADWEEP  2011    5.1    2.8    3.100000   85.9  107.2   \n",
              "4112                LAKSHADWEEP  2012   19.2    0.1    1.600000   76.8   21.2   \n",
              "4113                LAKSHADWEEP  2013   26.2   34.4   37.500000    5.3   88.3   \n",
              "4114                LAKSHADWEEP  2014   53.2   16.1    4.400000   14.9   57.4   \n",
              "4115                LAKSHADWEEP  2015    2.2    0.5    3.700000   87.1  133.1   \n",
              "\n",
              "        JUN    JUL    AUG    SEP    OCT    NOV        DEC     ANNUAL  Jan-Feb  \\\n",
              "0     517.5  365.1  481.1  332.6  388.5  558.2   33.60000  3373.2000    136.3   \n",
              "1     537.1  228.9  753.7  666.2  197.2  359.0  160.50000  3520.7000    159.8   \n",
              "2     479.9  728.4  326.7  339.0  181.2  284.4  225.00000  2957.4000    156.7   \n",
              "3     495.1  502.0  160.1  820.4  222.2  308.7   40.10000  3079.6000     24.1   \n",
              "4     628.7  368.7  330.5  297.0  260.7   25.4  344.70000  2566.7000      1.3   \n",
              "5     733.3  247.7  320.5  164.3  267.8  128.9   79.20000  2534.4000     36.6   \n",
              "6     305.2  443.9  377.6  200.4  264.4  648.9  245.60000  3347.9000    110.7   \n",
              "7     693.6  481.4  699.9  428.8  170.7  208.1  196.90000  3576.4000    106.0   \n",
              "8     472.7  264.3  337.4  626.6  208.2  267.3  153.50000  2899.4000     49.3   \n",
              "9     649.0  253.0  187.1  464.5  333.8   94.5  247.10000  2687.2000      8.4   \n",
              "10    549.8  468.9  370.3  386.2  318.7  117.2    2.30000  2960.5000    584.5   \n",
              "11    530.0  280.8  205.8  580.1  288.8  133.0   67.50000  2365.8000     85.3   \n",
              "12    383.3  792.8  520.5  310.8  139.8  184.4  289.70000  2957.8000      0.0   \n",
              "13    334.7  269.0  317.2  429.8  468.1  258.4  318.00000  2741.3000    101.7   \n",
              "14    450.1  317.3  425.0  561.2  369.7  192.6  133.70000  2937.5000      0.0   \n",
              "15    301.1  394.8  437.4  471.8  238.1  108.3  236.90000  2612.4000     11.6   \n",
              "16    710.8  200.9  455.4  303.3  227.0  366.9  175.00000  3275.0000     84.3   \n",
              "17    542.5  246.5  259.8  170.7  186.2  340.4  258.40000  2352.1000     28.2   \n",
              "18    546.9  294.4  467.4  505.4  397.5  262.9   85.50000  2943.2000    129.7   \n",
              "19    282.7  487.1  330.0  581.2  360.7  118.2   41.50000  2606.4000     16.3   \n",
              "20    506.1  425.8  307.4  511.7  162.0  541.0  192.20000  3554.2000    279.6   \n",
              "21    808.4  636.9  182.2  560.5  131.9  197.4   70.60000  1411.0089     79.5   \n",
              "22    261.2  493.3  290.9  251.2  331.1  378.6   18.87058  1411.0089     28.7   \n",
              "23    663.8  241.8  278.2  201.9  249.5  271.5  196.00000  2480.5000     36.6   \n",
              "24    370.0  195.3  523.7  719.3  443.8  148.4  560.70000  3282.2000    122.1   \n",
              "25    433.3  195.2  370.1  126.2  327.5  274.1   65.50000  2442.9000     20.5   \n",
              "26    410.2  406.3  391.5  404.8  444.5   99.5   13.50000  2998.3000    118.5   \n",
              "27    588.8  134.0  644.7  172.9  413.0  251.5   13.50000  2926.6000    192.6   \n",
              "28    533.6  317.9  446.7  677.2   82.3  249.4  201.60000  3075.1000    192.8   \n",
              "29    393.5  289.3  571.0  294.4  368.3   22.8  182.70000  2357.7000     25.3   \n",
              "...     ...    ...    ...    ...    ...    ...        ...        ...      ...   \n",
              "4086  399.2  193.3  218.3  179.9  128.6  147.8   49.50000  1465.9000     15.4   \n",
              "4087  389.3   29.4  284.7  183.4  133.0   47.7  128.30000  1288.6000      3.4   \n",
              "4088  352.5  293.6  240.9  240.9   28.9   82.7    5.80000  1450.8000      7.8   \n",
              "4089  473.5  387.5  167.3  216.3  172.4   69.2    3.50000  1714.4000     20.6   \n",
              "4090  181.6  334.0  123.5   98.9  160.4  155.4    5.00000  1310.5000     39.2   \n",
              "4091  604.3  241.1  253.8   45.7  222.7   75.5   28.60000  1583.0000     12.3   \n",
              "4092  346.6  363.0  373.3   95.1  120.4   69.3   31.70000  1534.9000      4.1   \n",
              "4093  276.1  346.7  154.4  161.0  131.6  280.5   40.80000  1449.7000      1.7   \n",
              "4094  361.1  240.2  219.7   76.2  213.5  153.7    1.20000  1547.1000     79.0   \n",
              "4095  286.0  486.7  384.8   71.8   81.0   72.2    3.30000  2030.9000    149.8   \n",
              "4096  427.1  335.3  197.3  230.4  109.0   60.5  131.60000  1606.0000     45.8   \n",
              "4097  307.0  459.6  216.8  144.0  213.5  200.8  119.70000  1764.7000      2.3   \n",
              "4098  382.0  388.8  196.7  274.7  184.8  144.1  253.50000  1986.9000     52.0   \n",
              "4099  279.6  459.4  133.8   73.4  305.0   51.2   49.00000  1857.3000     50.3   \n",
              "4100  225.4   95.5  319.9  164.5  141.4   56.3   11.00000  1372.1000    102.2   \n",
              "4101  283.9  198.9  144.3  213.5  105.2  101.5   16.60000  1380.6000     24.8   \n",
              "4102  261.8   81.3  143.9   50.0  178.2   52.9   17.40000  1033.5000     27.6   \n",
              "4103  364.5  400.6   92.1   84.3  191.6  206.1    7.50000  1532.9000     30.0   \n",
              "4104  251.2  280.8  169.5  200.0  193.4  107.6    2.20000  1553.2000      8.7   \n",
              "4105  248.5  378.9  102.4  278.0  164.2  218.3   26.60000  1575.4000     28.7   \n",
              "4106  286.9  172.3  150.7  318.5  119.1  158.9   10.90000  1598.6000     20.1   \n",
              "4107  573.4  427.4  294.7  457.5  256.1   47.6  109.60000  2361.6000      6.7   \n",
              "4108  254.6  363.9  206.6  108.9  252.9   67.6  130.10000  1726.8000     25.3   \n",
              "4109  401.2  266.4  185.0  145.1   87.4  166.2  132.30000  1570.1000      6.2   \n",
              "4110  318.9  336.7  335.1  161.5  155.4  201.5   81.50000  1725.2000     18.8   \n",
              "4111  153.6  350.2  254.0  255.2  117.4  184.3   14.90000  1533.7000      7.9   \n",
              "4112  327.0  231.5  381.2  179.8  145.9   12.4    8.80000  1405.5000     19.3   \n",
              "4113  426.2  296.4  154.4  180.0   72.8   78.1   26.70000  1426.3000     60.6   \n",
              "4114  244.1  116.1  466.1  132.2  169.2   59.0   62.30000  1395.0000     69.3   \n",
              "4115  296.6  257.5  146.4  160.4  165.4  231.0  159.00000  1642.9000      2.7   \n",
              "\n",
              "         Mar-May  Jun-Sep      Oct-Dec  \n",
              "0     560.300000   1696.3   980.300000  \n",
              "1     458.300000   2185.9   716.700000  \n",
              "2     236.100000   1874.0   690.600000  \n",
              "3     506.900000   1977.6   571.000000  \n",
              "4     309.700000   1624.9   630.800000  \n",
              "5     556.100000   1465.8   475.900000  \n",
              "6     751.200000   1327.1  1158.900000  \n",
              "7     591.000000   2303.7   575.700000  \n",
              "8     520.100000   1701.0   629.000000  \n",
              "9     449.800000   1553.6   675.400000  \n",
              "10    162.600000   1775.2   438.200000  \n",
              "11    194.500000   1596.7   489.300000  \n",
              "12    336.500000   2007.4   613.900000  \n",
              "13    244.400000   1350.7  1044.500000  \n",
              "14    487.900000   1753.6   696.000000  \n",
              "15    412.400000   1605.1   583.300000  \n",
              "16    751.400000   1670.4   768.900000  \n",
              "17    319.400000   1219.5   785.000000  \n",
              "18    253.500000   1814.1   745.900000  \n",
              "19    388.700000   1681.0   520.400000  \n",
              "20    628.400000   1751.0   895.200000  \n",
              "21    155.901753   2188.0   399.900000  \n",
              "22    295.700000   1296.6   154.100487  \n",
              "23    341.200000   1385.7   717.000000  \n",
              "24    198.900000   1808.3  1152.900000  \n",
              "25    630.500000   1124.8   667.100000  \n",
              "26    709.500000   1612.8   557.500000  \n",
              "27    515.600000   1540.4   678.000000  \n",
              "28    373.600000   1975.4   533.300000  \n",
              "29    210.400000   1548.2   573.800000  \n",
              "...          ...      ...          ...  \n",
              "4086  133.900000    990.7   325.900000  \n",
              "4087   89.400000    886.8   309.000000  \n",
              "4088  197.700000   1127.9   117.400000  \n",
              "4089  204.100000   1244.6   245.100000  \n",
              "4090  212.500000    738.0   320.800000  \n",
              "4091   99.000000   1144.9   326.800000  \n",
              "4092  131.400000   1178.0   221.400000  \n",
              "4093   56.900000    938.2   452.900000  \n",
              "4094  202.500000    897.2   368.400000  \n",
              "4095  495.300000   1229.3   156.500000  \n",
              "4096   69.000000   1190.1   301.100000  \n",
              "4097  101.000000   1127.4   534.000000  \n",
              "4098  110.300000   1242.2   582.400000  \n",
              "4099  455.600000    946.2   405.200000  \n",
              "4100  255.900000    805.3   208.700000  \n",
              "4101  291.900000    840.6   223.300000  \n",
              "4102  220.400000    537.0   248.500000  \n",
              "4103  156.200000    941.5   405.200000  \n",
              "4104  339.800000    901.5   303.200000  \n",
              "4105  129.800000   1007.8   409.100000  \n",
              "4106  361.200000    928.4   288.900000  \n",
              "4107  188.600000   1753.0   413.300000  \n",
              "4108  316.900000    934.0   450.600000  \n",
              "4109  180.300000    997.7   385.900000  \n",
              "4110  115.800000   1152.2   438.400000  \n",
              "4111  196.200000   1013.0   316.600000  \n",
              "4112   99.600000   1119.5   167.100000  \n",
              "4113  131.100000   1057.0   177.600000  \n",
              "4114   76.700000    958.5   290.500000  \n",
              "4115  223.900000    860.9   555.400000  \n",
              "\n",
              "[4116 rows x 19 columns]>"
            ]
          },
          "metadata": {
            "tags": []
          },
          "execution_count": 27
        }
      ]
    },
    {
      "metadata": {
        "id": "CEckOClE4jkc",
        "colab_type": "code",
        "colab": {
          "base_uri": "https://localhost:8080/",
          "height": 639
        },
        "outputId": "f85c8e18-cf34-441e-b0f9-6731f1bc8646"
      },
      "cell_type": "code",
      "source": [
        "# Grouping by subdivision ie. group data of rainfall all the year of each state into one row \n",
        "rain.groupby('SUBDIVISION').size()"
      ],
      "execution_count": 28,
      "outputs": [
        {
          "output_type": "execute_result",
          "data": {
            "text/plain": [
              "SUBDIVISION\n",
              "ANDAMAN & NICOBAR ISLANDS             110\n",
              "ARUNACHAL PRADESH                      97\n",
              "ASSAM & MEGHALAYA                     115\n",
              "BIHAR                                 115\n",
              "CHHATTISGARH                          115\n",
              "COASTAL ANDHRA PRADESH                115\n",
              "COASTAL KARNATAKA                     115\n",
              "EAST MADHYA PRADESH                   115\n",
              "EAST RAJASTHAN                        115\n",
              "EAST UTTAR PRADESH                    115\n",
              "GANGETIC WEST BENGAL                  115\n",
              "GUJARAT REGION                        115\n",
              "HARYANA DELHI & CHANDIGARH            115\n",
              "HIMACHAL PRADESH                      115\n",
              "JAMMU & KASHMIR                       115\n",
              "JHARKHAND                             115\n",
              "KERALA                                115\n",
              "KONKAN & GOA                          115\n",
              "LAKSHADWEEP                           114\n",
              "MADHYA MAHARASHTRA                    115\n",
              "MATATHWADA                            115\n",
              "NAGA MANI MIZO TRIPURA                115\n",
              "NORTH INTERIOR KARNATAKA              115\n",
              "ORISSA                                115\n",
              "PUNJAB                                115\n",
              "RAYALSEEMA                            115\n",
              "SAURASHTRA & KUTCH                    115\n",
              "SOUTH INTERIOR KARNATAKA              115\n",
              "SUB HIMALAYAN WEST BENGAL & SIKKIM    115\n",
              "TAMIL NADU                            115\n",
              "TELANGANA                             115\n",
              "UTTARAKHAND                           115\n",
              "VIDARBHA                              115\n",
              "WEST MADHYA PRADESH                   115\n",
              "WEST RAJASTHAN                        115\n",
              "WEST UTTAR PRADESH                    115\n",
              "dtype: int64"
            ]
          },
          "metadata": {
            "tags": []
          },
          "execution_count": 28
        }
      ]
    },
    {
      "metadata": {
        "id": "2EqZPBuA4jkq",
        "colab_type": "code",
        "colab": {
          "base_uri": "https://localhost:8080/",
          "height": 2308
        },
        "outputId": "d87ef684-f2d2-4c29-a3ac-b30cf4555836"
      },
      "cell_type": "code",
      "source": [
        "# Finding out covariance ( measure of how much two random variables vary together)\n",
        "print(\"Covariance= \",rain.cov())\n",
        "# Finding out correlation (statistical measure that indicates how strongly two variables are related.)\n",
        "print(\"\\n\\nCorrelation= \",rain.corr())"
      ],
      "execution_count": 29,
      "outputs": [
        {
          "output_type": "stream",
          "text": [
            "Covariance=                  YEAR          JAN          FEB           MAR           APR  \\\n",
            "YEAR     1098.319127   -62.525455   -26.333846     31.608776     17.985597   \n",
            "JAN       -62.525455  1126.880700   549.299548    627.375837    475.344306   \n",
            "FEB       -26.333846   549.299548  1288.551221    974.300386    892.111938   \n",
            "MAR        31.608776   627.375837   974.300386   2201.972143   1766.214414   \n",
            "APR        17.985597   475.344306   892.111938   1766.214414   4596.594854   \n",
            "MAY        14.668989   535.377197   896.648721   2094.072720   5433.121872   \n",
            "JUN      -105.646427  -265.334667   283.409286   1819.002965   7239.347234   \n",
            "JUL      -144.815256  -465.128448   156.524886   1227.377060   4883.946095   \n",
            "AUG        40.268753    75.536029   488.385320   1195.021166   3275.971621   \n",
            "SEP       -29.893921   110.216877   388.537697   1133.597551   3507.500523   \n",
            "OCT         7.922814    41.252990   -16.324506    401.044464   2478.380760   \n",
            "NOV       -42.624271   154.517515   -57.342083     28.337749    767.024409   \n",
            "DEC       -26.804831   311.215537   200.895960    270.309451    379.022457   \n",
            "ANNUAL   -239.492392  3182.200682  5831.636967  13551.372253  34892.913572   \n",
            "Jan-Feb   -87.619668  1675.112786  1837.200844   1601.188055   1367.102182   \n",
            "Mar-May    70.841300  1632.972340  2754.690073   6057.993672  11751.856167   \n",
            "Jun-Sep  -220.389375  -537.708253  1291.239831   5354.542547  18800.990715   \n",
            "Oct-Dec   -56.011703   507.405040   130.324910    702.446620   3611.891111   \n",
            "\n",
            "                  MAY            JUN            JUL            AUG  \\\n",
            "YEAR        14.668989    -105.646427    -144.815256      40.268753   \n",
            "JAN        535.377197    -265.334667    -465.128448      75.536029   \n",
            "FEB        896.648721     283.409286     156.524886     488.385320   \n",
            "MAR       2094.072720    1819.002965    1227.377060    1195.021166   \n",
            "APR       5433.121872    7239.347234    4883.946095    3275.971621   \n",
            "MAY      15175.769642   16377.076471   10998.210205    7649.136573   \n",
            "JUN      16377.076471   55022.202897   46742.156704   28995.034435   \n",
            "JUL      10998.210205   46742.156704   72528.044881   34865.908024   \n",
            "AUG       7649.136573   28995.034435   34865.908024   35599.654379   \n",
            "SEP       8195.841594   17494.413820   18689.175537   12689.249607   \n",
            "OCT       6466.235613   11407.373968    8011.623303    4698.672264   \n",
            "NOV       2957.825540    3683.106889     787.996420     225.143088   \n",
            "DEC       1297.885757     878.194764    -221.331169      13.095578   \n",
            "ANNUAL   76832.142562  186947.838753  196502.700078  128005.124370   \n",
            "Jan-Feb   1430.274263      14.101413    -304.676604     568.034975   \n",
            "Mar-May  22630.231857   25297.228770   16923.240288   12061.613866   \n",
            "Jun-Sep  43086.245286  147777.656772  172787.647754  111996.536530   \n",
            "Oct-Dec  10689.487044   15929.294431    8543.095960    4889.354198   \n",
            "\n",
            "                  SEP           OCT           NOV          DEC         ANNUAL  \\\n",
            "YEAR       -29.893921      7.922814    -42.624271   -26.804831    -239.492392   \n",
            "JAN        110.216877     41.252990    154.517515   311.215537    3182.200682   \n",
            "FEB        388.537697    -16.324506    -57.342083   200.895960    5831.636967   \n",
            "MAR       1133.597551    401.044464     28.337749   270.309451   13551.372253   \n",
            "APR       3507.500523   2478.380760    767.024409   379.022457   34892.913572   \n",
            "MAY       8195.841594   6466.235613   2957.825540  1297.885757   76832.142562   \n",
            "JUN      17494.413820  11407.373968   3683.106889   878.194764  186947.838753   \n",
            "JUL      18689.175537   8011.623303    787.996420  -221.331169  196502.700078   \n",
            "AUG      12689.249607   4698.672264    225.143088    13.095578  128005.124370   \n",
            "SEP      18308.685373   5160.065598   1423.645365   625.337757   86880.184870   \n",
            "OCT       5160.065598   9887.210250   3255.412215  1181.840586   52370.830566   \n",
            "NOV       1423.645365   3255.412215   4705.074413  1306.412604   18933.853987   \n",
            "DEC        625.337757   1181.840586   1306.412604  1790.821416    7849.560149   \n",
            "ANNUAL   86880.184870  52370.830566  18933.853987  7849.560149  811776.910930   \n",
            "Jan-Feb    497.514696     22.024800     92.528943   512.180397    9013.688346   \n",
            "Mar-May  12753.170806   9323.753288   3734.819277  1929.952379  125275.096761   \n",
            "Jun-Sep  67119.849971  29204.838323   6116.134359  1265.311019  598334.762240   \n",
            "Oct-Dec   7199.381976  14283.355731   9219.400872  4279.018309   79154.756536   \n",
            "\n",
            "             Jan-Feb        Mar-May        Jun-Sep       Oct-Dec  \n",
            "YEAR      -87.619668      70.841300    -220.389375    -56.011703  \n",
            "JAN      1675.112786    1632.972340    -537.708253    507.405040  \n",
            "FEB      1837.200844    2754.690073    1291.239831    130.324910  \n",
            "MAR      1601.188055    6057.993672    5354.542547    702.446620  \n",
            "APR      1367.102182   11751.856167   18800.990715   3611.891111  \n",
            "MAY      1430.274263   22630.231857   43086.245286  10689.487044  \n",
            "JUN        14.101413   25297.228770  147777.656772  15929.294431  \n",
            "JUL      -304.676604   16923.240288  172787.647754   8543.095960  \n",
            "AUG       568.034975   12061.613866  111996.536530   4889.354198  \n",
            "SEP       497.514696   12753.170806   67119.849971   7199.381976  \n",
            "OCT        22.024800    9323.753288   29204.838323  14283.355731  \n",
            "NOV        92.528943    3734.819277    6116.134359   9219.400872  \n",
            "DEC       512.180397    1929.952379    1265.311019   4279.018309  \n",
            "ANNUAL   9013.688346  125275.096761  598334.762240  79154.756536  \n",
            "Jan-Feb  3512.342973    4385.069178     756.357901    630.248247  \n",
            "Mar-May  4385.069178   40439.879705   66774.885424  14946.235220  \n",
            "Jun-Sep   756.357901   66774.885424  499680.824907  36465.214924  \n",
            "Oct-Dec   630.248247   14946.235220   36465.214924  27781.806104  \n",
            "\n",
            "\n",
            "Correlation=               YEAR       JAN       FEB       MAR       APR       MAY       JUN  \\\n",
            "YEAR     1.000000 -0.056202 -0.022136  0.020325  0.008005  0.003593 -0.013590   \n",
            "JAN     -0.056202  1.000000  0.455847  0.398275  0.208858  0.129463 -0.033697   \n",
            "FEB     -0.022136  0.455847  1.000000  0.578410  0.366564  0.202766  0.033658   \n",
            "MAR      0.020325  0.398275  0.578410  1.000000  0.555162  0.362252  0.165256   \n",
            "APR      0.008005  0.208858  0.366564  0.555162  1.000000  0.650513  0.455211   \n",
            "MAY      0.003593  0.129463  0.202766  0.362252  0.650513  1.000000  0.566751   \n",
            "JUN     -0.013590 -0.033697  0.033658  0.165256  0.455211  0.566751  1.000000   \n",
            "JUL     -0.016225 -0.051449  0.016191  0.097122  0.267485  0.331508  0.739923   \n",
            "AUG      0.006440  0.011926  0.072109  0.134973  0.256094  0.329090  0.655136   \n",
            "SEP     -0.006666  0.024265  0.079993  0.178535  0.382341  0.491688  0.551191   \n",
            "OCT      0.002404  0.012359 -0.004574  0.085951  0.367632  0.527885  0.489080   \n",
            "NOV     -0.018750  0.067105 -0.023288  0.008804  0.164933  0.350037  0.228909   \n",
            "DEC     -0.019113  0.219077  0.132250  0.136122  0.132105  0.248963  0.088470   \n",
            "ANNUAL  -0.008021  0.105213  0.180311  0.320523  0.571217  0.692228  0.884572   \n",
            "Jan-Feb -0.044611  0.841989  0.863589  0.575755  0.340239  0.195905  0.001014   \n",
            "Mar-May  0.010630  0.241899  0.381608  0.641975  0.861953  0.913500  0.536289   \n",
            "Jun-Sep -0.009408 -0.022660  0.050887  0.161425  0.392298  0.494785  0.891237   \n",
            "Oct-Dec -0.010140  0.090685  0.021782  0.089811  0.319622  0.520597  0.407425   \n",
            "\n",
            "              JUL       AUG       SEP       OCT       NOV       DEC    ANNUAL  \\\n",
            "YEAR    -0.016225  0.006440 -0.006666  0.002404 -0.018750 -0.019113 -0.008021   \n",
            "JAN     -0.051449  0.011926  0.024265  0.012359  0.067105  0.219077  0.105213   \n",
            "FEB      0.016191  0.072109  0.079993 -0.004574 -0.023288  0.132250  0.180311   \n",
            "MAR      0.097122  0.134973  0.178535  0.085951  0.008804  0.136122  0.320523   \n",
            "APR      0.267485  0.256094  0.382341  0.367632  0.164933  0.132105  0.571217   \n",
            "MAY      0.331508  0.329090  0.491688  0.527885  0.350037  0.248963  0.692228   \n",
            "JUN      0.739923  0.655136  0.551191  0.489080  0.228909  0.088470  0.884572   \n",
            "JUL      1.000000  0.686160  0.512872  0.299179  0.042657 -0.019421  0.809836   \n",
            "AUG      0.686160  1.000000  0.497032  0.250447  0.017396  0.001640  0.752985   \n",
            "SEP      0.512872  0.497032  1.000000  0.383522  0.153388  0.109209  0.712646   \n",
            "OCT      0.299179  0.250447  0.383522  1.000000  0.477294  0.280864  0.584567   \n",
            "NOV      0.042657  0.017396  0.153388  0.477294  1.000000  0.450061  0.306364   \n",
            "DEC     -0.019421  0.001640  0.109209  0.280864  0.450061  1.000000  0.205874   \n",
            "ANNUAL   0.809836  0.752985  0.712646  0.584567  0.306364  0.205874  1.000000   \n",
            "Jan-Feb -0.019089  0.050799  0.062041  0.003737  0.022761  0.204220  0.168805   \n",
            "Mar-May  0.312482  0.317891  0.468689  0.466282  0.270758  0.226786  0.691419   \n",
            "Jun-Sep  0.907639  0.839722  0.701740  0.415501  0.126138  0.042298  0.939463   \n",
            "Oct-Dec  0.190319  0.155471  0.319217  0.861813  0.806379  0.606649  0.527082   \n",
            "\n",
            "          Jan-Feb   Mar-May   Jun-Sep   Oct-Dec  \n",
            "YEAR    -0.044611  0.010630 -0.009408 -0.010140  \n",
            "JAN      0.841989  0.241899 -0.022660  0.090685  \n",
            "FEB      0.863589  0.381608  0.050887  0.021782  \n",
            "MAR      0.575755  0.641975  0.161425  0.089811  \n",
            "APR      0.340239  0.861953  0.392298  0.319622  \n",
            "MAY      0.195905  0.913500  0.494785  0.520597  \n",
            "JUN      0.001014  0.536289  0.891237  0.407425  \n",
            "JUL     -0.019089  0.312482  0.907639  0.190319  \n",
            "AUG      0.050799  0.317891  0.839722  0.155471  \n",
            "SEP      0.062041  0.468689  0.701740  0.319217  \n",
            "OCT      0.003737  0.466282  0.415501  0.861813  \n",
            "NOV      0.022761  0.270758  0.126138  0.806379  \n",
            "DEC      0.204220  0.226786  0.042298  0.606649  \n",
            "ANNUAL   0.168805  0.691419  0.939463  0.527082  \n",
            "Jan-Feb  1.000000  0.367937  0.018054  0.063802  \n",
            "Mar-May  0.367937  1.000000  0.469745  0.445909  \n",
            "Jun-Sep  0.018054  0.469745  1.000000  0.309494  \n",
            "Oct-Dec  0.063802  0.445909  0.309494  1.000000  \n"
          ],
          "name": "stdout"
        }
      ]
    },
    {
      "metadata": {
        "id": "gXB8ggE34jky",
        "colab_type": "code",
        "colab": {
          "base_uri": "https://localhost:8080/",
          "height": 82
        },
        "outputId": "964db568-6495-4f0d-8796-d58556b85dd0"
      },
      "cell_type": "code",
      "source": [
        "# Index of correlation coloumns\n",
        "corr_cols=rain.corr()['ANNUAL'].sort_values()[::-1]\n",
        "corr_cols.index"
      ],
      "execution_count": 30,
      "outputs": [
        {
          "output_type": "execute_result",
          "data": {
            "text/plain": [
              "Index(['ANNUAL', 'Jun-Sep', 'JUN', 'JUL', 'AUG', 'SEP', 'MAY', 'Mar-May',\n",
              "       'OCT', 'APR', 'Oct-Dec', 'MAR', 'NOV', 'DEC', 'FEB', 'Jan-Feb', 'JAN',\n",
              "       'YEAR'],\n",
              "      dtype='object')"
            ]
          },
          "metadata": {
            "tags": []
          },
          "execution_count": 30
        }
      ]
    },
    {
      "metadata": {
        "id": "GJ_tCfIM4jk7",
        "colab_type": "code",
        "colab": {
          "base_uri": "https://localhost:8080/",
          "height": 348
        },
        "outputId": "6817ebe9-f994-47d6-a13f-fff0c9c161cc"
      },
      "cell_type": "code",
      "source": [
        "# Scatter plot of annual and january \n",
        "plt.scatter(rain.ANNUAL,rain.JAN)\n",
        "plt.show()"
      ],
      "execution_count": 31,
      "outputs": [
        {
          "output_type": "display_data",
          "data": {
            "image/png": "[encoded data removed]",
            "text/plain": [
              "<Figure size 576x396 with 1 Axes>"
            ]
          },
          "metadata": {
            "tags": []
          }
        }
      ]
    },
    {
      "metadata": {
        "id": "-op6Cfjt4jlD",
        "colab_type": "code",
        "colab": {
          "base_uri": "https://localhost:8080/",
          "height": 348
        },
        "outputId": "f49f41f0-2df9-4972-edce-c8b4efaa9f7c"
      },
      "cell_type": "code",
      "source": [
        "# Box plot of annual rainfall data in years 1901-2015\n",
        "rain['ANNUAL'].plot(kind='box',sharex=False,sharey=False) # each graph will be independent of x and y axis\n",
        "plt.show()"
      ],
      "execution_count": 32,
      "outputs": [
        {
          "output_type": "display_data",
          "data": {
            "image/png": "[encoded data removed]",
            "text/plain": [
              "<Figure size 576x396 with 1 Axes>"
            ]
          },
          "metadata": {
            "tags": []
          }
        }
      ]
    },
    {
      "metadata": {
        "id": "WC4xgpFC4jlR",
        "colab_type": "code",
        "colab": {
          "base_uri": "https://localhost:8080/",
          "height": 348
        },
        "outputId": "7d2762b5-18f8-4001-faeb-2d249876a062"
      },
      "cell_type": "code",
      "source": [
        "# Histogram of rainfall from year 1901-2015\n",
        "rain['JAN'].hist(bins=20)\n",
        "rain['FEB'].hist(bins=20)\n",
        "rain['MAR'].hist(bins=20)\n",
        "rain['APR'].hist(bins=20)\n",
        "rain['MAY'].hist(bins=20)\n",
        "rain['JUN'].hist(bins=20)  # bins defines no of equal width bins in given range\n",
        "rain['JUL'].hist(bins=20)\n",
        "rain['AUG'].hist(bins=20)\n",
        "rain['SEP'].hist(bins=20)\n",
        "rain['OCT'].hist(bins=20)\n",
        "rain['NOV'].hist(bins=20)\n",
        "rain['DEC'].hist(bins=20)\n",
        "plt.show()"
      ],
      "execution_count": 33,
      "outputs": [
        {
          "output_type": "display_data",
          "data": {
            "image/png": "[encoded data removed]",
            "text/plain": [
              "<Figure size 576x396 with 1 Axes>"
            ]
          },
          "metadata": {
            "tags": []
          }
        }
      ]
    },
    {
      "metadata": {
        "id": "fyC2aJ_24jla",
        "colab_type": "code",
        "colab": {
          "base_uri": "https://localhost:8080/",
          "height": 348
        },
        "outputId": "84e7d852-227f-4f69-a6e0-4d9652d6a92a"
      },
      "cell_type": "code",
      "source": [
        "# Histogram showing annual rainfall of all states\n",
        "rain['ANNUAL'].hist(bins=20)\n",
        "plt.show()"
      ],
      "execution_count": 34,
      "outputs": [
        {
          "output_type": "display_data",
          "data": {
            "image/png": "[encoded data removed]",
            "text/plain": [
              "<Figure size 576x396 with 1 Axes>"
            ]
          },
          "metadata": {
            "tags": []
          }
        }
      ]
    },
    {
      "metadata": {
        "id": "0CVfN_X04jlj",
        "colab_type": "code",
        "colab": {
          "base_uri": "https://localhost:8080/",
          "height": 442
        },
        "outputId": "95960fea-45f0-412e-f965-c320988d950d"
      },
      "cell_type": "code",
      "source": [
        "# Violin plot of ANNUAL rainfall\n",
        "sb.violinplot(rain['ANNUAL'])"
      ],
      "execution_count": 35,
      "outputs": [
        {
          "output_type": "stream",
          "text": [
            "/usr/local/lib/python3.6/dist-packages/seaborn/categorical.py:588: FutureWarning: remove_na is deprecated and is a private function. Do not use.\n",
            "  kde_data = remove_na(group_data)\n",
            "/usr/local/lib/python3.6/dist-packages/seaborn/categorical.py:816: FutureWarning: remove_na is deprecated and is a private function. Do not use.\n",
            "  violin_data = remove_na(group_data)\n"
          ],
          "name": "stderr"
        },
        {
          "output_type": "execute_result",
          "data": {
            "text/plain": [
              "<matplotlib.axes._subplots.AxesSubplot at 0x7fe5d5a7a390>"
            ]
          },
          "metadata": {
            "tags": []
          },
          "execution_count": 35
        },
        {
          "output_type": "display_data",
          "data": {
            "image/png": "[encoded data removed]",
            "text/plain": [
              "<Figure size 576x396 with 1 Axes>"
            ]
          },
          "metadata": {
            "tags": []
          }
        }
      ]
    },
    {
      "metadata": {
        "id": "iUCJwFZn4jlu",
        "colab_type": "code",
        "colab": {
          "base_uri": "https://localhost:8080/",
          "height": 33
        },
        "outputId": "353de270-a780-48ea-8896-4648ecff0b86"
      },
      "cell_type": "code",
      "source": [
        "# After visualisation we train model using train_test_split and test it using mean_squared_error / root_mean_square \n",
        "# also we'll scatter plot of expected and predicted value\n",
        "rain['ANNUAL'].shape"
      ],
      "execution_count": 36,
      "outputs": [
        {
          "output_type": "execute_result",
          "data": {
            "text/plain": [
              "(4116,)"
            ]
          },
          "metadata": {
            "tags": []
          },
          "execution_count": 36
        }
      ]
    },
    {
      "metadata": {
        "id": "HgvBS7xE4jl-",
        "colab_type": "code",
        "colab": {
          "base_uri": "https://localhost:8080/",
          "height": 66
        },
        "outputId": "cd67c2e1-4699-413b-c9f8-a5311432f7dc"
      },
      "cell_type": "code",
      "source": [
        "from sklearn import linear_model\n",
        "print(\"Multiple Linear Regression model b/w annual rainfall and periodic rainfall\")\n",
        "y=rain['ANNUAL']\n",
        "x=rain[['Jan-Feb','Mar-May','Jun-Sep','Oct-Dec']]\n",
        "train_x,test_x,train_y,test_y=train_test_split(x,y,test_size=0.3)\n",
        "'''train_x=train_x[:,np.newaxis] ''' # newaxis converts array to coloumn vector\n",
        "'''train_y=train_y[:,np.newaxis] ''' \n",
        "print(\"Train x shape\",train_x.shape,\"Test_x \",test_x.shape)\n",
        "print(\"Train y shape\",train_y.shape,\"Test_y \",test_y.shape)"
      ],
      "execution_count": 37,
      "outputs": [
        {
          "output_type": "stream",
          "text": [
            "Multiple Linear Regression model b/w annual rainfall and periodic rainfall\n",
            "Train x shape (2881, 4) Test_x  (1235, 4)\n",
            "Train y shape (2881,) Test_y  (1235,)\n"
          ],
          "name": "stdout"
        }
      ]
    },
    {
      "metadata": {
        "id": "5pWxg7yg4jmG",
        "colab_type": "code",
        "colab": {
          "base_uri": "https://localhost:8080/",
          "height": 66
        },
        "outputId": "e9d2001e-a92e-4901-cd4a-f648e663f973"
      },
      "cell_type": "code",
      "source": [
        "lm=linear_model.LinearRegression()\n",
        "lm.fit(train_x,train_y)\n",
        "pred=lm.predict(test_x)\n",
        "print(pred)\n",
        "print(test_y[np.newaxis,:]) # here newaxis converted array to row vector"
      ],
      "execution_count": 38,
      "outputs": [
        {
          "output_type": "stream",
          "text": [
            "[ 619.27873933  387.99462408  651.21028604 ...  990.03668434  817.32980072\n",
            " 3162.02779231]\n",
            "[[ 615.9  383.9  650.6 ...  989.5  815.1 3176.7]]\n"
          ],
          "name": "stdout"
        }
      ]
    },
    {
      "metadata": {
        "id": "2BbGu8Pi4jmO",
        "colab_type": "code",
        "colab": {
          "base_uri": "https://localhost:8080/",
          "height": 82
        },
        "outputId": "08072cb6-d316-47b5-f068-53e18422b286"
      },
      "cell_type": "code",
      "source": [
        "# Now let's calculate performance of our algorithm\n",
        "print(\"Mean squared error = \",mean_squared_error(test_y,pred))\n",
        "print(\"Root mean squared error = \",np.sqrt(mean_squared_error(test_y,pred)))\n",
        "print(\"Mean Absolute error= \",mean_absolute_error(test_y,pred))\n",
        "print(\"r2_score= \",r2_score(test_y,pred)) # varies b/w 0.0 to 1.0 and 1.0 is best possible score"
      ],
      "execution_count": 39,
      "outputs": [
        {
          "output_type": "stream",
          "text": [
            "Mean squared error =  13237.497424397123\n",
            "Root mean squared error =  115.05432379705303\n",
            "Mean Absolute error=  10.907477923227907\n",
            "r2_score=  0.982639273374483\n"
          ],
          "name": "stdout"
        }
      ]
    },
    {
      "metadata": {
        "id": "r9PYnnuh4jmc",
        "colab_type": "code",
        "colab": {
          "base_uri": "https://localhost:8080/",
          "height": 361
        },
        "outputId": "468057bf-4911-4512-ba67-73fc1d0e074c"
      },
      "cell_type": "code",
      "source": [
        "# Now let's plot graphs b/w predicted and test values\n",
        "plt.scatter(pred,test_y)\n",
        "plt.xlabel('TRAIN_X')\n",
        "plt.ylabel('TRAIN_Y')\n",
        "plt.show()"
      ],
      "execution_count": 40,
      "outputs": [
        {
          "output_type": "display_data",
          "data": {
            "image/png": "[encoded data removed]",
            "text/plain": [
              "<Figure size 576x396 with 1 Axes>"
            ]
          },
          "metadata": {
            "tags": []
          }
        }
      ]
    },
    {
      "metadata": {
        "id": "BIl0VKtY4jmk",
        "colab_type": "code",
        "colab": {}
      },
      "cell_type": "code",
      "source": [
        ""
      ],
      "execution_count": 0,
      "outputs": []
    }
  ]
}